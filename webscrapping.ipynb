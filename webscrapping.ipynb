{
 "cells": [
  {
   "cell_type": "code",
   "execution_count": 54,
   "metadata": {},
   "outputs": [],
   "source": [
    "import requests\n",
    "import logging\n",
    "import os\n",
    "from bs4 import BeautifulSoup\n",
    "from urllib.request import urlopen"
   ]
  },
  {
   "cell_type": "code",
   "execution_count": 55,
   "metadata": {},
   "outputs": [],
   "source": [
    "save_dir=\"images/\"\n",
    "if not os.path.exists(save_dir) :\n",
    "    os.makedirs(save_dir)"
   ]
  },
  {
   "cell_type": "code",
   "execution_count": 56,
   "metadata": {},
   "outputs": [],
   "source": [
    "query=\"elon musk\""
   ]
  },
  {
   "cell_type": "code",
   "execution_count": 57,
   "metadata": {},
   "outputs": [],
   "source": [
    "# Fetching elon musk images\n",
    "response=requests.get(f\"https://www.google.com/search?rlz=1C1CHBF_enIN974IN974&sxsrf=AB5stBgAmgMV9-L4dyHnRwBTxUQzqoGVSQ:1691333460226&q={query}&tbm=isch&source=lnms&sa=X&ved=2ahUKEwjYjd-QpMiAAxXCt1YBHZIyB5QQ0pQJegQICxAB&biw=697&bih=664&dpr=1.38\")"
   ]
  },
  {
   "cell_type": "code",
   "execution_count": 58,
   "metadata": {},
   "outputs": [
    {
     "name": "stdout",
     "output_type": "stream",
     "text": [
      "<Response [200]>\n"
     ]
    }
   ],
   "source": [
    "print(response)"
   ]
  },
  {
   "cell_type": "code",
   "execution_count": 59,
   "metadata": {},
   "outputs": [],
   "source": [
    "\n",
    "soup = BeautifulSoup(response.content,\"html.parser\")"
   ]
  },
  {
   "cell_type": "code",
   "execution_count": 60,
   "metadata": {},
   "outputs": [
    {
     "data": {
      "text/plain": [
       "<!DOCTYPE html PUBLIC \"-//WAPFORUM//DTD XHTML Mobile 1.0//EN\" \"http://www.wapforum.org/DTD/xhtml-mobile10.dtd\">\n",
       "<html lang=\"en-IN\" xmlns=\"http://www.w3.org/1999/xhtml\"><head><meta content=\"application/xhtml+xml; charset=utf-8\" http-equiv=\"Content-Type\"/><meta content=\"no-cache\" name=\"Cache-Control\"/><title>elon musk - Google Search</title><style>a{text-decoration:none;color:inherit}a:hover{text-decoration:underline}a img{border:0}body{font-family:arial,sans-serif;padding:8px;margin:0 auto;max-width:700px;min-width:240px;}.FbhRzb{border-left:thin solid #dadce0;border-right:thin solid #dadce0;border-top:thin solid #dadce0;height:40px;overflow:hidden}.n692Zd{margin-bottom:10px}.cvifge{height:40px;border-spacing:0}.QvGUP{height:40px;padding:0 8px 0 8px;vertical-align:top}.O4cRJf{height:40px;width:100%;padding:0;padding-right:16px}.O1ePr{height:40px;padding:0;vertical-align:top}.kgJEQe{height:36px;width:98px;vertical-align:top;margin-top:4px}.lXLRf{vertical-align:top}.MhzMZd{border:0;vertical-align:middle;font-size:14px;height:40px;padding:0;width:100%;padding-left:16px}.xB0fq{height:40px;border:none;font-size:14px;background-color:#1a73e8;color:#fff;padding:0 16px;margin:0;vertical-align:top;cursor:pointer}.xB0fq:focus{border:1px solid #1a73e8}.M7pB2{border:thin solid #dadce0;margin:0 0 3px 0;font-size:13px;font-weight:500;height:40px}.euZec{width:100%;height:40px;text-align:center;border-spacing:0}table.euZec td{padding:0;width:25%}.QIqI7{display:inline-block;padding-top:4px;font-weight:bold;color:#4285f4}.EY24We{border-bottom:2px solid #4285f4}.CsQyDc{display:inline-block;color:#70757a}.TuS8Ad{font-size:14px}.HddGcc{padding:8px;color:#70757a}.dzp8ae{font-weight:bold;color:#3c4043}.rEM8G{color:#70757a}.bookcf{table-layout:fixed;width:100%;border-spacing:0}.InWNIe{text-align:center}.uZgmoc{border:thin solid #dadce0;color:#70757a;font-size:14px;text-align:center;table-layout:fixed;width:100%}.frGj1b{display:block;padding:12px 0 12px 0;width:100%}.BnJWBc{text-align:center;padding:6px 0 13px 0;height:35px}.e3goi{vertical-align:top;padding:0;height:180px}.GpQGbf{margin:auto;border-collapse:collapse;border-spacing:0;width:100%}</style></head><body><style>.X6ZCif{color:#202124;font-size:11px;line-height:16px;display:inline-block;padding-top:2px;overflow:hidden;padding-bottom:4px;width:100%}.TwVfHd{border-radius:16px;border:thin solid #dadce0;display:inline-block;padding:8px 8px;margin-right:8px;margin-bottom:4px}.yekiAe{background-color:#dadce0}.mnTahd{width:100%}.ezO2md{border:thin solid #dadce0;padding:12px 16px 12px 16px;margin-bottom:10px;font-family:arial,sans-serif}.lIMUZd{font-family:arial,sans-serif}.IkMU6e{border-spacing:0}.SjCsie{width:100%}.EnarA{text-align:center}.NZWO1b{width:162px;height:140px;line-height:140px;overflow:'hidden';text-align:center}.yWs4tf{text-align:center;margin:auto;vertical-align:middle;max-width:162px;max-height:140px}.jB2rPd{padding-top:2px;padding-bottom:8px;}.fYyStc{word-break:break-word}.ynsChf{display:block;white-space:nowrap;overflow:hidden;text-overflow:ellipsis}.Fj3V3b{color:#1967d2;font-size:14px;line-height:20px}.FrIlee{color:#202124;font-size:11px;line-height:16px}.F9iS2e{color:#70757a;font-size:11px;line-height:16px}.WMQ2Le{color:#70757a;font-size:12px;line-height:16px}.x3G5ab{color:#202124;font-size:12px;line-height:16px}.fuLhoc{color:#1967d2;font-size:16px;line-height:20px}.epoveb{font-size:24px;line-height:28px;font-weight:400;color:#202124}.dXDvrc{color:#0d652d;font-size:14px;line-height:20px;word-wrap:break-word}.dloBPe{font-weight:bold}.YVIcad{color:#70757a}.JkVVdd{color:#ea4335}.oXZRFd{color:#ea4335}.MQHtg{color:#fbbc04}.pyMRrb{color:#1e8e3e}.EtTZid{color:#1e8e3e}.M3vVJe{color:#1967d2}.qXLe6d{display:block}.NHQNef{font-style:italic}.Cb8Z7c{white-space:pre}a.ZWRArf{text-decoration:none}a .CVA68e:hover{text-decoration:underline}</style><div class=\"n692Zd\"><div class=\"BnJWBc\"><a class=\"lXLRf\" href=\"/?sa=X&amp;sca_esv=554261443&amp;rlz=1C1CHBF_enIN974IN974&amp;biw=697&amp;bih=664&amp;output=images&amp;ie=UTF-8&amp;tbm=isch&amp;ved=0ahUKEwjblPTvuciAAxXgcWwGHc2YA_QQPAgC\"><img alt=\"Google\" class=\"kgJEQe\" src=\"/images/branding/searchlogo/1x/googlelogo_desk_heirloom_color_150x55dp.gif\"/></a></div><div class=\"FbhRzb\"><form action=\"/search\"><input name=\"sca_esv\" type=\"hidden\" value=\"554261443\"/><input name=\"rlz\" type=\"hidden\" value=\"1C1CHBF_enIN974IN974\"/><input name=\"biw\" type=\"hidden\" value=\"697\"/><input name=\"bih\" type=\"hidden\" value=\"664\"/><input name=\"ie\" type=\"hidden\" value=\"ISO-8859-1\"/><input name=\"tbm\" type=\"hidden\" value=\"isch\"/><input name=\"oq\" type=\"hidden\"/><input name=\"aqs\" type=\"hidden\"/><table class=\"cvifge\"><tr><td class=\"O4cRJf\"><input class=\"MhzMZd\" name=\"q\" type=\"text\" value=\"elon musk\"/></td><td class=\"O1ePr\"><input class=\"xB0fq\" type=\"submit\" value=\"Search\"/></td></tr></table></form></div><div class=\"M7pB2\"><table class=\"euZec\"><tbody><tr><td><a class=\"CsQyDc\" href=\"/search?q=elon+musk&amp;sca_esv=554261443&amp;rlz=1C1CHBF_enIN974IN974&amp;biw=697&amp;bih=664&amp;ie=UTF-8&amp;source=lnms&amp;sa=X&amp;ved=0ahUKEwjblPTvuciAAxXgcWwGHc2YA_QQ_AUIBCgA\">ALL</a></td><td><a class=\"CsQyDc\" href=\"/search?q=elon+musk&amp;sca_esv=554261443&amp;rlz=1C1CHBF_enIN974IN974&amp;biw=697&amp;bih=664&amp;ie=UTF-8&amp;tbm=nws&amp;source=lnms&amp;sa=X&amp;ved=0ahUKEwjblPTvuciAAxXgcWwGHc2YA_QQ_AUIBSgB\">NEWS</a></td><td class=\"EY24We\"><span class=\"QIqI7\">IMAGES</span></td><td><a class=\"CsQyDc\" href=\"/search?q=elon+musk&amp;sca_esv=554261443&amp;rlz=1C1CHBF_enIN974IN974&amp;biw=697&amp;bih=664&amp;ie=UTF-8&amp;tbm=vid&amp;source=lnms&amp;sa=X&amp;ved=0ahUKEwjblPTvuciAAxXgcWwGHc2YA_QQ_AUIBygD\">VIDEOS</a></td></tr></tbody></table></div></div><div class=\"X6ZCif\"><a class=\"TwVfHd\" href=\"/search?sca_esv=554261443&amp;rlz=1C1CHBF_enIN974IN974&amp;biw=697&amp;bih=664&amp;ie=UTF-8&amp;tbm=isch&amp;q=elon+musk&amp;chips=q:elon+musk,g_1:tesla&amp;sa=X&amp;ved=0ahUKEwjblPTvuciAAxXgcWwGHc2YA_QQ4lYICygA\">tesla</a><a class=\"TwVfHd\" href=\"/search?sca_esv=554261443&amp;rlz=1C1CHBF_enIN974IN974&amp;biw=697&amp;bih=664&amp;ie=UTF-8&amp;tbm=isch&amp;q=elon+musk&amp;chips=q:elon+musk,g_1:spacex&amp;sa=X&amp;ved=0ahUKEwjblPTvuciAAxXgcWwGHc2YA_QQ4lYIDCgB\">spacex</a><a class=\"TwVfHd\" href=\"/search?sca_esv=554261443&amp;rlz=1C1CHBF_enIN974IN974&amp;biw=697&amp;bih=664&amp;ie=UTF-8&amp;tbm=isch&amp;q=elon+musk&amp;chips=q:elon+musk,g_1:wallpaper&amp;sa=X&amp;ved=0ahUKEwjblPTvuciAAxXgcWwGHc2YA_QQ4lYIDSgC\">wallpaper</a><a class=\"TwVfHd\" href=\"/search?sca_esv=554261443&amp;rlz=1C1CHBF_enIN974IN974&amp;biw=697&amp;bih=664&amp;ie=UTF-8&amp;tbm=isch&amp;q=elon+musk&amp;chips=q:elon+musk,g_1:rocket&amp;sa=X&amp;ved=0ahUKEwjblPTvuciAAxXgcWwGHc2YA_QQ4lYIDigD\">rocket</a><a class=\"TwVfHd\" href=\"/search?sca_esv=554261443&amp;rlz=1C1CHBF_enIN974IN974&amp;biw=697&amp;bih=664&amp;ie=UTF-8&amp;tbm=isch&amp;q=elon+musk&amp;chips=q:elon+musk,g_1:car&amp;sa=X&amp;ved=0ahUKEwjblPTvuciAAxXgcWwGHc2YA_QQ4lYIDygE\">car</a><a class=\"TwVfHd\" href=\"/search?sca_esv=554261443&amp;rlz=1C1CHBF_enIN974IN974&amp;biw=697&amp;bih=664&amp;ie=UTF-8&amp;tbm=isch&amp;q=elon+musk&amp;chips=q:elon+musk,g_1:twitter&amp;sa=X&amp;ved=0ahUKEwjblPTvuciAAxXgcWwGHc2YA_QQ4lYIECgF\">twitter</a><a class=\"TwVfHd\" href=\"/search?sca_esv=554261443&amp;rlz=1C1CHBF_enIN974IN974&amp;biw=697&amp;bih=664&amp;ie=UTF-8&amp;tbm=isch&amp;q=elon+musk&amp;chips=q:elon+musk,g_1:grimes&amp;sa=X&amp;ved=0ahUKEwjblPTvuciAAxXgcWwGHc2YA_QQ4lYIESgG\">grimes</a><a class=\"TwVfHd\" href=\"/search?sca_esv=554261443&amp;rlz=1C1CHBF_enIN974IN974&amp;biw=697&amp;bih=664&amp;ie=UTF-8&amp;tbm=isch&amp;q=elon+musk&amp;chips=q:elon+musk,g_1:early&amp;sa=X&amp;ved=0ahUKEwjblPTvuciAAxXgcWwGHc2YA_QQ4lYIEigH\">early</a><a class=\"TwVfHd\" href=\"/search?sca_esv=554261443&amp;rlz=1C1CHBF_enIN974IN974&amp;biw=697&amp;bih=664&amp;ie=UTF-8&amp;tbm=isch&amp;q=elon+musk&amp;chips=q:elon+musk,g_1:paypal&amp;sa=X&amp;ved=0ahUKEwjblPTvuciAAxXgcWwGHc2YA_QQ4lYIEygI\">paypal</a><a class=\"TwVfHd\" href=\"/search?sca_esv=554261443&amp;rlz=1C1CHBF_enIN974IN974&amp;biw=697&amp;bih=664&amp;ie=UTF-8&amp;tbm=isch&amp;q=elon+musk&amp;chips=q:elon+musk,g_1:family&amp;sa=X&amp;ved=0ahUKEwjblPTvuciAAxXgcWwGHc2YA_QQ4lYIFCgJ\">family</a></div><div><table class=\"GpQGbf\"><tr><td align=\"center\" class=\"e3goi\"><div class=\"mnTahd\"> <div> <div class=\"lIMUZd\"><div><table class=\"IkMU6e\"><tr><td><a href=\"/url?q=https://en.wikipedia.org/wiki/Elon_Musk&amp;sa=U&amp;ved=2ahUKEwjblPTvuciAAxXgcWwGHc2YA_QQqoUBegQICBAB&amp;usg=AOvVaw1SjE_U7rHSGzGpqDhZAaeH\"><div class=\"NZWO1b\"><img alt=\"\" class=\"yWs4tf\" src=\"https://encrypted-tbn0.gstatic.com/images?q=tbn:ANd9GcQ91bYeYuNi93Snai-G61-ct5IkXUEpoeW1RpiOFFuRWggNeJf-7uN0OZsy5XI&amp;s\"/></div></a></td></tr><tr><td><a href=\"/url?q=https://en.wikipedia.org/wiki/Elon_Musk&amp;sa=U&amp;ved=2ahUKEwjblPTvuciAAxXgcWwGHc2YA_QQr4kDegQICBAC&amp;usg=AOvVaw0qGZIdB9yygRC3OuPjRICW\"><div class=\"jB2rPd\"> <span class=\"qXLe6d x3G5ab\"> <span class=\"fYyStc\">Elon Musk - Wikipedia</span> </span> <span class=\"qXLe6d F9iS2e\"> <span class=\"fYyStc\">en.wikipedia.org</span> </span> </div></a></td></tr></table></div></div> </div> </div></td><td align=\"center\" class=\"e3goi\"><div class=\"mnTahd\"> <div> <div class=\"lIMUZd\"><div><table class=\"IkMU6e\"><tr><td><a href=\"/url?q=https://www.britannica.com/biography/Elon-Musk&amp;sa=U&amp;ved=2ahUKEwjblPTvuciAAxXgcWwGHc2YA_QQqoUBegQIEhAB&amp;usg=AOvVaw0_IFdE4_itDUpFtHWDmGP2\"><div class=\"NZWO1b\"><img alt=\"\" class=\"yWs4tf\" src=\"https://encrypted-tbn0.gstatic.com/images?q=tbn:ANd9GcQY_R5NSNoZkSlMo3hf86COGJ4fCv0s6Nx4k8uCGkWc6YGOn_m4-rIOQ3GhOhg&amp;s\"/></div></a></td></tr><tr><td><a href=\"/url?q=https://www.britannica.com/biography/Elon-Musk&amp;sa=U&amp;ved=2ahUKEwjblPTvuciAAxXgcWwGHc2YA_QQr4kDegQIEhAC&amp;usg=AOvVaw3tWCtE-wCcdD5vnowVSuMN\"><div class=\"jB2rPd\"> <span class=\"qXLe6d x3G5ab\"> <span class=\"fYyStc\">Elon Musk | Biography,...</span> </span> <span class=\"qXLe6d F9iS2e\"> <span class=\"fYyStc\">www.britannica.com</span> </span> </div></a></td></tr></table></div></div> </div> </div></td><td align=\"center\" class=\"e3goi\"><div class=\"mnTahd\"> <div> <div class=\"lIMUZd\"><div><table class=\"IkMU6e\"><tr><td><a href=\"/url?q=https://simple.wikipedia.org/wiki/Elon_Musk&amp;sa=U&amp;ved=2ahUKEwjblPTvuciAAxXgcWwGHc2YA_QQqoUBegQIExAB&amp;usg=AOvVaw19Mrw5-6Um6725R-eZV5cg\"><div class=\"NZWO1b\"><img alt=\"\" class=\"yWs4tf\" src=\"https://encrypted-tbn0.gstatic.com/images?q=tbn:ANd9GcRi6VsY0O4Rwi4daY2t-PuvdJGdeLzaZDeakW3gypf8wEN6zzIP7g1IsEv8008&amp;s\"/></div></a></td></tr><tr><td><a href=\"/url?q=https://simple.wikipedia.org/wiki/Elon_Musk&amp;sa=U&amp;ved=2ahUKEwjblPTvuciAAxXgcWwGHc2YA_QQr4kDegQIExAC&amp;usg=AOvVaw2xZDlqnVrCdo-TnY34eOzl\"><div class=\"jB2rPd\"> <span class=\"qXLe6d x3G5ab\"> <span class=\"fYyStc\">Elon Musk - Simple English...</span> </span> <span class=\"qXLe6d F9iS2e\"> <span class=\"fYyStc\">simple.wikipedia.org</span> </span> </div></a></td></tr></table></div></div> </div> </div></td><td align=\"center\" class=\"e3goi\"><div class=\"mnTahd\"> <div> <div class=\"lIMUZd\"><div><table class=\"IkMU6e\"><tr><td><a href=\"/url?q=https://www.britannica.com/biography/Elon-Musk&amp;sa=U&amp;ved=2ahUKEwjblPTvuciAAxXgcWwGHc2YA_QQqoUBegQIEBAB&amp;usg=AOvVaw3ydGGSiOiKzwlxnf-90J2_\"><div class=\"NZWO1b\"><img alt=\"\" class=\"yWs4tf\" src=\"https://encrypted-tbn0.gstatic.com/images?q=tbn:ANd9GcS6mPr1g683xgMlTnJfswzPyIjixDUJCLKR_GUOYd43dGj0LB8Uum64r_cOjl4&amp;s\"/></div></a></td></tr><tr><td><a href=\"/url?q=https://www.britannica.com/biography/Elon-Musk&amp;sa=U&amp;ved=2ahUKEwjblPTvuciAAxXgcWwGHc2YA_QQr4kDegQIEBAC&amp;usg=AOvVaw0d9y5__XpN_10moFyyqDJ_\"><div class=\"jB2rPd\"> <span class=\"qXLe6d x3G5ab\"> <span class=\"fYyStc\">Elon Musk | Biography,...</span> </span> <span class=\"qXLe6d F9iS2e\"> <span class=\"fYyStc\">www.britannica.com</span> </span> </div></a></td></tr></table></div></div> </div> </div></td></tr><tr><td align=\"center\" class=\"e3goi\"><div class=\"mnTahd\"> <div> <div class=\"lIMUZd\"><div><table class=\"IkMU6e\"><tr><td><a href=\"/url?q=https://www.nbcnews.com/tech/tech-news/elon-musks-x-corp-sues-nonprofit-group-tracks-hate-speech-rcna97511&amp;sa=U&amp;ved=2ahUKEwjblPTvuciAAxXgcWwGHc2YA_QQqoUBegQIERAB&amp;usg=AOvVaw3rZXEAAAHlp7YfnKux3x8a\"><div class=\"NZWO1b\"><img alt=\"\" class=\"yWs4tf\" src=\"https://encrypted-tbn0.gstatic.com/images?q=tbn:ANd9GcTimempIlhToA_YSTDRQj-OTwOV6iu3TjjA2OeQB9LOOwyYkViejZmVr7_enUI&amp;s\"/></div></a></td></tr><tr><td><a href=\"/url?q=https://www.nbcnews.com/tech/tech-news/elon-musks-x-corp-sues-nonprofit-group-tracks-hate-speech-rcna97511&amp;sa=U&amp;ved=2ahUKEwjblPTvuciAAxXgcWwGHc2YA_QQr4kDegQIERAC&amp;usg=AOvVaw3ymPxG8McihotnWYj-6soP\"><div class=\"jB2rPd\"> <span class=\"qXLe6d x3G5ab\"> <span class=\"fYyStc\">Elon Musk's X Corp. sues...</span> </span> <span class=\"qXLe6d F9iS2e\"> <span class=\"fYyStc\">www.nbcnews.com</span> </span> </div></a></td></tr></table></div></div> </div> </div></td><td align=\"center\" class=\"e3goi\"><div class=\"mnTahd\"> <div> <div class=\"lIMUZd\"><div><table class=\"IkMU6e\"><tr><td><a href=\"/url?q=https://indianexpress.com/article/technology/social/elon-musk-steals-more-twitter-handles-domain-war-with-openai-8878069/&amp;sa=U&amp;ved=2ahUKEwjblPTvuciAAxXgcWwGHc2YA_QQqoUBegQIDhAB&amp;usg=AOvVaw3DFiFmj_JnPs3uN75b6SH8\"><div class=\"NZWO1b\"><img alt=\"\" class=\"yWs4tf\" src=\"https://encrypted-tbn0.gstatic.com/images?q=tbn:ANd9GcRV6ht7iTHOiRpnNX524TEAMYc7vLxNrCKWq_N_xFvvHeMiWk0a6R_CwUperMg&amp;s\"/></div></a></td></tr><tr><td><a href=\"/url?q=https://indianexpress.com/article/technology/social/elon-musk-steals-more-twitter-handles-domain-war-with-openai-8878069/&amp;sa=U&amp;ved=2ahUKEwjblPTvuciAAxXgcWwGHc2YA_QQr4kDegQIDhAC&amp;usg=AOvVaw0NzbOiBAELeA4-bJBItwvv\"><div class=\"jB2rPd\"> <span class=\"qXLe6d x3G5ab\"> <span class=\"fYyStc\">Elon Musk steals more...</span> </span> <span class=\"qXLe6d F9iS2e\"> <span class=\"fYyStc\">indianexpress.com</span> </span> </div></a></td></tr></table></div></div> </div> </div></td><td align=\"center\" class=\"e3goi\"><div class=\"mnTahd\"> <div> <div class=\"lIMUZd\"><div><table class=\"IkMU6e\"><tr><td><a href=\"/url?q=https://www.moneycontrol.com/news/trends/elon-musk-will-fund-legal-bill-if-you-were-treated-unfairly-by-employer-over-twitter-use-11105101.html&amp;sa=U&amp;ved=2ahUKEwjblPTvuciAAxXgcWwGHc2YA_QQqoUBegQIDBAB&amp;usg=AOvVaw0UhQwoiGGoVmFNjdzJYRwH\"><div class=\"NZWO1b\"><img alt=\"\" class=\"yWs4tf\" src=\"https://encrypted-tbn0.gstatic.com/images?q=tbn:ANd9GcQrLpKqlX1sjNXjknU7YtoFuZ4cypWhAlX7Nvy41fLIdWxHOe3GBS__pSro4w&amp;s\"/></div></a></td></tr><tr><td><a href=\"/url?q=https://www.moneycontrol.com/news/trends/elon-musk-will-fund-legal-bill-if-you-were-treated-unfairly-by-employer-over-twitter-use-11105101.html&amp;sa=U&amp;ved=2ahUKEwjblPTvuciAAxXgcWwGHc2YA_QQr4kDegQIDBAC&amp;usg=AOvVaw2kBEMRwVHZ1Rgt-hEOMXdn\"><div class=\"jB2rPd\"> <span class=\"qXLe6d x3G5ab\"> <span class=\"fYyStc\">Elon Musk dubbed 'hero'...</span> </span> <span class=\"qXLe6d F9iS2e\"> <span class=\"fYyStc\">www.moneycontrol.com</span> </span> </div></a></td></tr></table></div></div> </div> </div></td><td align=\"center\" class=\"e3goi\"><div class=\"mnTahd\"> <div> <div class=\"lIMUZd\"><div><table class=\"IkMU6e\"><tr><td><a href=\"/url?q=https://www.indiatoday.in/technology/story/musks-x-to-back-legal-costs-for-people-treated-unfairly-for-their-posts-2416926-2023-08-06&amp;sa=U&amp;ved=2ahUKEwjblPTvuciAAxXgcWwGHc2YA_QQqoUBegQIDxAB&amp;usg=AOvVaw0aOAHYYTIL5GyRVez8B5a1\"><div class=\"NZWO1b\"><img alt=\"\" class=\"yWs4tf\" src=\"https://encrypted-tbn0.gstatic.com/images?q=tbn:ANd9GcR8Ki_Zcm3YAL6abFKq02Y22nM8DzYig13P5MiAUxiFlOuZ12YvdqPZjTDCVhg&amp;s\"/></div></a></td></tr><tr><td><a href=\"/url?q=https://www.indiatoday.in/technology/story/musks-x-to-back-legal-costs-for-people-treated-unfairly-for-their-posts-2416926-2023-08-06&amp;sa=U&amp;ved=2ahUKEwjblPTvuciAAxXgcWwGHc2YA_QQr4kDegQIDxAC&amp;usg=AOvVaw397GHBdDAP8UdWuxdQGYoD\"><div class=\"jB2rPd\"> <span class=\"qXLe6d x3G5ab\"> <span class=\"fYyStc\">Musk's X formerly Twitter...</span> </span> <span class=\"qXLe6d F9iS2e\"> <span class=\"fYyStc\">www.indiatoday.in</span> </span> </div></a></td></tr></table></div></div> </div> </div></td></tr><tr><td align=\"center\" class=\"e3goi\"><div class=\"mnTahd\"> <div> <div class=\"lIMUZd\"><div><table class=\"IkMU6e\"><tr><td><a href=\"/url?q=https://www.biography.com/business-leaders/elon-musk&amp;sa=U&amp;ved=2ahUKEwjblPTvuciAAxXgcWwGHc2YA_QQqoUBegQICxAB&amp;usg=AOvVaw2DbwkNO2gCY6iP32Z9q4dd\"><div class=\"NZWO1b\"><img alt=\"\" class=\"yWs4tf\" src=\"https://encrypted-tbn0.gstatic.com/images?q=tbn:ANd9GcTvewo3-e7y-JsV16EL3q3EaMThVwCiuN7DD1_KTctFNodySZtMVcuOKk5uUQ&amp;s\"/></div></a></td></tr><tr><td><a href=\"/url?q=https://www.biography.com/business-leaders/elon-musk&amp;sa=U&amp;ved=2ahUKEwjblPTvuciAAxXgcWwGHc2YA_QQr4kDegQICxAC&amp;usg=AOvVaw34UZ8Wj6ROCbRpxwZBfeA9\"><div class=\"jB2rPd\"> <span class=\"qXLe6d x3G5ab\"> <span class=\"fYyStc\">Elon Musk - Tesla, Age &amp;...</span> </span> <span class=\"qXLe6d F9iS2e\"> <span class=\"fYyStc\">www.biography.com</span> </span> </div></a></td></tr></table></div></div> </div> </div></td><td align=\"center\" class=\"e3goi\"><div class=\"mnTahd\"> <div> <div class=\"lIMUZd\"><div><table class=\"IkMU6e\"><tr><td><a href=\"/url?q=https://www.bloomberg.com/news/articles/2023-08-06/musk-says-discriminated-x-users-will-get-help-with-legal-bills&amp;sa=U&amp;ved=2ahUKEwjblPTvuciAAxXgcWwGHc2YA_QQqoUBegQIDRAB&amp;usg=AOvVaw1UX2OwML2Az_G2aegMig4F\"><div class=\"NZWO1b\"><img alt=\"\" class=\"yWs4tf\" src=\"https://encrypted-tbn0.gstatic.com/images?q=tbn:ANd9GcTYn5DO2bDVOfAIr9cFF_RpTiC-pG16Qd9RbVMqb-kiSF8BjwzCQ7uQwd89Bw&amp;s\"/></div></a></td></tr><tr><td><a href=\"/url?q=https://www.bloomberg.com/news/articles/2023-08-06/musk-says-discriminated-x-users-will-get-help-with-legal-bills&amp;sa=U&amp;ved=2ahUKEwjblPTvuciAAxXgcWwGHc2YA_QQr4kDegQIDRAC&amp;usg=AOvVaw27vW-jR2pDGLSODLNSaJjV\"><div class=\"jB2rPd\"> <span class=\"qXLe6d x3G5ab\"> <span class=\"fYyStc\">Musk Promises to Fund Legal...</span> </span> <span class=\"qXLe6d F9iS2e\"> <span class=\"fYyStc\">www.bloomberg.com</span> </span> </div></a></td></tr></table></div></div> </div> </div></td><td align=\"center\" class=\"e3goi\"><div class=\"mnTahd\"> <div> <div class=\"lIMUZd\"><div><table class=\"IkMU6e\"><tr><td><a href=\"/url?q=https://www.investopedia.com/elon-musk-regains-worlds-richest-person-title-7506906&amp;sa=U&amp;ved=2ahUKEwjblPTvuciAAxXgcWwGHc2YA_QQqoUBegQICRAB&amp;usg=AOvVaw2-rFxH7xJfrEJic_XfkaMc\"><div class=\"NZWO1b\"><img alt=\"\" class=\"yWs4tf\" src=\"https://encrypted-tbn0.gstatic.com/images?q=tbn:ANd9GcSAml6qsvttMXVIK2cnwNa7LqMi_VvKaRFZcmLSDDbyAiARR95xf8qQVYyxog&amp;s\"/></div></a></td></tr><tr><td><a href=\"/url?q=https://www.investopedia.com/elon-musk-regains-worlds-richest-person-title-7506906&amp;sa=U&amp;ved=2ahUKEwjblPTvuciAAxXgcWwGHc2YA_QQr4kDegQICRAC&amp;usg=AOvVaw1SMHQ_XBeqP_ynIdnBO35i\"><div class=\"jB2rPd\"> <span class=\"qXLe6d x3G5ab\"> <span class=\"fYyStc\">Elon Musk Regains Title of...</span> </span> <span class=\"qXLe6d F9iS2e\"> <span class=\"fYyStc\">www.investopedia.com</span> </span> </div></a></td></tr></table></div></div> </div> </div></td><td align=\"center\" class=\"e3goi\"><div class=\"mnTahd\"> <div> <div class=\"lIMUZd\"><div><table class=\"IkMU6e\"><tr><td><a href=\"/url?q=https://www.livemint.com/companies/news/elon-musk-reveals-major-update-on-ad-revenue-sharing-x-premium-subscribers-will-get-11691231012250.html&amp;sa=U&amp;ved=2ahUKEwjblPTvuciAAxXgcWwGHc2YA_QQqoUBegQIChAB&amp;usg=AOvVaw2f6XeoiTjQ46wlsIIkeo-t\"><div class=\"NZWO1b\"><img alt=\"\" class=\"yWs4tf\" src=\"https://encrypted-tbn0.gstatic.com/images?q=tbn:ANd9GcQezjNqx6w8JJCwE0pgQbiAmOdSou46cBizMFC8ASz8V9nMmeJaq3FHfUtbdiE&amp;s\"/></div></a></td></tr><tr><td><a href=\"/url?q=https://www.livemint.com/companies/news/elon-musk-reveals-major-update-on-ad-revenue-sharing-x-premium-subscribers-will-get-11691231012250.html&amp;sa=U&amp;ved=2ahUKEwjblPTvuciAAxXgcWwGHc2YA_QQr4kDegQIChAC&amp;usg=AOvVaw00LUz9AT-xaRX5U2PMHkQD\"><div class=\"jB2rPd\"> <span class=\"qXLe6d x3G5ab\"> <span class=\"fYyStc\">Elon Musk reveals major...</span> </span> <span class=\"qXLe6d F9iS2e\"> <span class=\"fYyStc\">www.livemint.com</span> </span> </div></a></td></tr></table></div></div> </div> </div></td></tr><tr><td align=\"center\" class=\"e3goi\"><div class=\"mnTahd\"> <div> <div class=\"lIMUZd\"><div><table class=\"IkMU6e\"><tr><td><a href=\"/url?q=https://www.theguardian.com/tv-and-radio/2022/oct/12/the-elon-musk-show-review-is-the-worlds-richest-man-a-genius-or-just-a-goofy-loner&amp;sa=U&amp;ved=2ahUKEwjblPTvuciAAxXgcWwGHc2YA_QQqoUBegQIAxAB&amp;usg=AOvVaw1Y63oR43b7cEg8lo42YWzv\"><div class=\"NZWO1b\"><img alt=\"\" class=\"yWs4tf\" src=\"https://encrypted-tbn0.gstatic.com/images?q=tbn:ANd9GcRQZseQ9bRxUwHLR5yk-VmJYFt7AuZKTqzI7n1im9SOTEk9qWAeEoQcfZ8l5g&amp;s\"/></div></a></td></tr><tr><td><a href=\"/url?q=https://www.theguardian.com/tv-and-radio/2022/oct/12/the-elon-musk-show-review-is-the-worlds-richest-man-a-genius-or-just-a-goofy-loner&amp;sa=U&amp;ved=2ahUKEwjblPTvuciAAxXgcWwGHc2YA_QQr4kDegQIAxAC&amp;usg=AOvVaw3JDYKJCgR-Tq3tvaDcPUwT\"><div class=\"jB2rPd\"> <span class=\"qXLe6d x3G5ab\"> <span class=\"fYyStc\">The Elon Musk Show review –...</span> </span> <span class=\"qXLe6d F9iS2e\"> <span class=\"fYyStc\">www.theguardian.com</span> </span> </div></a></td></tr></table></div></div> </div> </div></td><td align=\"center\" class=\"e3goi\"><div class=\"mnTahd\"> <div> <div class=\"lIMUZd\"><div><table class=\"IkMU6e\"><tr><td><a href=\"/url?q=https://www.businessinsider.com/elon-musk-relationships-2017-11&amp;sa=U&amp;ved=2ahUKEwjblPTvuciAAxXgcWwGHc2YA_QQqoUBegQIARAB&amp;usg=AOvVaw28eY4OMKgO5smwIqKsPTA6\"><div class=\"NZWO1b\"><img alt=\"\" class=\"yWs4tf\" src=\"https://encrypted-tbn0.gstatic.com/images?q=tbn:ANd9GcTajsryULnUhibLm7EAy_8EkoDdfDf-C3MgzuCkCs3my64MQcQxf4O63e74kEI&amp;s\"/></div></a></td></tr><tr><td><a href=\"/url?q=https://www.businessinsider.com/elon-musk-relationships-2017-11&amp;sa=U&amp;ved=2ahUKEwjblPTvuciAAxXgcWwGHc2YA_QQr4kDegQIARAC&amp;usg=AOvVaw1uv8jzado8uRYNLqWIzy6M\"><div class=\"jB2rPd\"> <span class=\"qXLe6d x3G5ab\"> <span class=\"fYyStc\">Elon Musk Relationship...</span> </span> <span class=\"qXLe6d F9iS2e\"> <span class=\"fYyStc\">www.businessinsider.com</span> </span> </div></a></td></tr></table></div></div> </div> </div></td><td align=\"center\" class=\"e3goi\"><div class=\"mnTahd\"> <div> <div class=\"lIMUZd\"><div><table class=\"IkMU6e\"><tr><td><a href=\"/url?q=https://www.space.com/18849-elon-musk.html&amp;sa=U&amp;ved=2ahUKEwjblPTvuciAAxXgcWwGHc2YA_QQqoUBegQIBxAB&amp;usg=AOvVaw1p5R-Qr-qdSvQRXSmCx5Fr\"><div class=\"NZWO1b\"><img alt=\"\" class=\"yWs4tf\" src=\"https://encrypted-tbn0.gstatic.com/images?q=tbn:ANd9GcT1Q-0CmrVfXGte1S5KxWDiRtt6djhyUzRP_tIhSGVZqmYd_tGTQH9EmMdXTQ&amp;s\"/></div></a></td></tr><tr><td><a href=\"/url?q=https://www.space.com/18849-elon-musk.html&amp;sa=U&amp;ved=2ahUKEwjblPTvuciAAxXgcWwGHc2YA_QQr4kDegQIBxAC&amp;usg=AOvVaw3OxghbxgJL6Q91zgZJDZep\"><div class=\"jB2rPd\"> <span class=\"qXLe6d x3G5ab\"> <span class=\"fYyStc\">Elon Musk: Revolutionary...</span> </span> <span class=\"qXLe6d F9iS2e\"> <span class=\"fYyStc\">www.space.com</span> </span> </div></a></td></tr></table></div></div> </div> </div></td><td align=\"center\" class=\"e3goi\"><div class=\"mnTahd\"> <div> <div class=\"lIMUZd\"><div><table class=\"IkMU6e\"><tr><td><a href=\"/url?q=https://www.hindustantimes.com/technology/elon-musk-announces-fight-with-metas-zukerberg-will-be-live-streamed-on-x-formerly-twitter-101691308218908.html&amp;sa=U&amp;ved=2ahUKEwjblPTvuciAAxXgcWwGHc2YA_QQqoUBegQIBRAB&amp;usg=AOvVaw1uXPgq0tkquRytXD_OOZed\"><div class=\"NZWO1b\"><img alt=\"\" class=\"yWs4tf\" src=\"https://encrypted-tbn0.gstatic.com/images?q=tbn:ANd9GcQGiRopnPtY9H5lyLPSW-qspes1KjIGG-Z-edLKSchpa0XtjXgmbKrQAsIyDn8&amp;s\"/></div></a></td></tr><tr><td><a href=\"/url?q=https://www.hindustantimes.com/technology/elon-musk-announces-fight-with-metas-zukerberg-will-be-live-streamed-on-x-formerly-twitter-101691308218908.html&amp;sa=U&amp;ved=2ahUKEwjblPTvuciAAxXgcWwGHc2YA_QQr4kDegQIBRAC&amp;usg=AOvVaw2vXXl1lEhvZue5uZe0u3mR\"><div class=\"jB2rPd\"> <span class=\"qXLe6d x3G5ab\"> <span class=\"fYyStc\">How to watch Elon Musk's...</span> </span> <span class=\"qXLe6d F9iS2e\"> <span class=\"fYyStc\">www.hindustantimes.com</span> </span> </div></a></td></tr></table></div></div> </div> </div></td></tr><tr><td align=\"center\" class=\"e3goi\"><div class=\"mnTahd\"> <div> <div class=\"lIMUZd\"><div><table class=\"IkMU6e\"><tr><td><a href=\"/url?q=https://www.simonandschuster.com/books/Elon-Musk/Walter-Isaacson/9781982181284&amp;sa=U&amp;ved=2ahUKEwjblPTvuciAAxXgcWwGHc2YA_QQqoUBegQIABAB&amp;usg=AOvVaw3tcX2SQkAtgERlkyS1MWMM\"><div class=\"NZWO1b\"><img alt=\"\" class=\"yWs4tf\" src=\"https://encrypted-tbn0.gstatic.com/images?q=tbn:ANd9GcS6PtbO3oSFgC1yh6BPlre0Sr5h3aca6UrEmg7ibGUrD1g40Xm5cZBGYl7G3PU&amp;s\"/></div></a></td></tr><tr><td><a href=\"/url?q=https://www.simonandschuster.com/books/Elon-Musk/Walter-Isaacson/9781982181284&amp;sa=U&amp;ved=2ahUKEwjblPTvuciAAxXgcWwGHc2YA_QQr4kDegQIABAC&amp;usg=AOvVaw0vUgVOyP77RSqBKZPaqde1\"><div class=\"jB2rPd\"> <span class=\"qXLe6d x3G5ab\"> <span class=\"fYyStc\">Elon Musk | Book by Walter...</span> </span> <span class=\"qXLe6d F9iS2e\"> <span class=\"fYyStc\">www.simonandschuster.com</span> </span> </div></a></td></tr></table></div></div> </div> </div></td><td align=\"center\" class=\"e3goi\"><div class=\"mnTahd\"> <div> <div class=\"lIMUZd\"><div><table class=\"IkMU6e\"><tr><td><a href=\"/url?q=https://www.reuters.com/world/elon-musk-who-spar-twitter-over-un-agencys-role-2023-03-23/&amp;sa=U&amp;ved=2ahUKEwjblPTvuciAAxXgcWwGHc2YA_QQqoUBegQIBhAB&amp;usg=AOvVaw0IX-S6j5bgZHzEDu3hfE-M\"><div class=\"NZWO1b\"><img alt=\"\" class=\"yWs4tf\" src=\"https://encrypted-tbn0.gstatic.com/images?q=tbn:ANd9GcQ8PMvYwzma9_AefAQkWbf36ybkPkpEyUb06aEMyMqBATsvLQUPwTKBrjozCg&amp;s\"/></div></a></td></tr><tr><td><a href=\"/url?q=https://www.reuters.com/world/elon-musk-who-spar-twitter-over-un-agencys-role-2023-03-23/&amp;sa=U&amp;ved=2ahUKEwjblPTvuciAAxXgcWwGHc2YA_QQr4kDegQIBhAC&amp;usg=AOvVaw0c00cNsXoLGaOyTzLVYV0G\"><div class=\"jB2rPd\"> <span class=\"qXLe6d x3G5ab\"> <span class=\"fYyStc\">Elon Musk, WHO chief spar...</span> </span> <span class=\"qXLe6d F9iS2e\"> <span class=\"fYyStc\">www.reuters.com</span> </span> </div></a></td></tr></table></div></div> </div> </div></td><td align=\"center\" class=\"e3goi\"><div class=\"mnTahd\"> <div> <div class=\"lIMUZd\"><div><table class=\"IkMU6e\"><tr><td><a href=\"/url?q=https://www.cnn.com/2023/07/12/tech/elon-musk-ai-company/index.html&amp;sa=U&amp;ved=2ahUKEwjblPTvuciAAxXgcWwGHc2YA_QQqoUBegQIBBAB&amp;usg=AOvVaw22bdVbj5guqVM6OOEdgNAH\"><div class=\"NZWO1b\"><img alt=\"\" class=\"yWs4tf\" src=\"https://encrypted-tbn0.gstatic.com/images?q=tbn:ANd9GcRUNt-70ZeRtX94MTAGG_0jct8icPN38L_0vC8ub8XMMGdqXlbjk3aWVvEiX6c&amp;s\"/></div></a></td></tr><tr><td><a href=\"/url?q=https://www.cnn.com/2023/07/12/tech/elon-musk-ai-company/index.html&amp;sa=U&amp;ved=2ahUKEwjblPTvuciAAxXgcWwGHc2YA_QQr4kDegQIBBAC&amp;usg=AOvVaw2ihD8Q6Ci2jfaDzlJHq26J\"><div class=\"jB2rPd\"> <span class=\"qXLe6d x3G5ab\"> <span class=\"fYyStc\">xAI: Elon Musk announces a...</span> </span> <span class=\"qXLe6d F9iS2e\"> <span class=\"fYyStc\">www.cnn.com</span> </span> </div></a></td></tr></table></div></div> </div> </div></td><td align=\"center\" class=\"e3goi\"><div class=\"mnTahd\"> <div> <div class=\"lIMUZd\"><div><table class=\"IkMU6e\"><tr><td><a href=\"/url?q=https://fortune.com/2023/02/15/tesla-investors-elon-musk-plans-to-run-twitter-for-rest-of-2023/&amp;sa=U&amp;ved=2ahUKEwjblPTvuciAAxXgcWwGHc2YA_QQqoUBegQIAhAB&amp;usg=AOvVaw3mFVnSW1ubVfJm3FUvC4Jv\"><div class=\"NZWO1b\"><img alt=\"\" class=\"yWs4tf\" src=\"https://encrypted-tbn0.gstatic.com/images?q=tbn:ANd9GcS2quwTIA5YuEiqdZT_92UDLDZfJLt7a51mI56dDC_UO2cs7FXTFtDua7YLGg&amp;s\"/></div></a></td></tr><tr><td><a href=\"/url?q=https://fortune.com/2023/02/15/tesla-investors-elon-musk-plans-to-run-twitter-for-rest-of-2023/&amp;sa=U&amp;ved=2ahUKEwjblPTvuciAAxXgcWwGHc2YA_QQr4kDegQIAhAC&amp;usg=AOvVaw3-LP5u7sUHKDtQdjS73gVY\"><div class=\"jB2rPd\"> <span class=\"qXLe6d x3G5ab\"> <span class=\"fYyStc\">Elon Musk will stay on as...</span> </span> <span class=\"qXLe6d F9iS2e\"> <span class=\"fYyStc\">fortune.com</span> </span> </div></a></td></tr></table></div></div> </div> </div></td></tr></table></div><table class=\"uZgmoc\"><tbody><td><a class=\"frGj1b\" href=\"/search?q=elon+musk&amp;sca_esv=554261443&amp;rlz=1C1CHBF_enIN974IN974&amp;biw=697&amp;bih=664&amp;ie=UTF-8&amp;tbm=isch&amp;ei=IMrPZNuEOeDjseMPzbGOoA8&amp;start=20&amp;sa=N\">Next &gt;</a></td></tbody></table><br/><div class=\"TuS8Ad\" data-ved=\"0ahUKEwjblPTvuciAAxXgcWwGHc2YA_QQpyoIUg\"><style>.VYM29{font-weight:bold}</style><div align=\"center\" class=\"HddGcc\"><span class=\"VYM29\">452001, Indore, Madhya Pradesh</span><span> - </span><span>From your IP address</span><span> - </span><a href=\"/url?q=https://support.google.com/websearch%3Fp%3Dws_settings_location%26hl%3Den-IN&amp;sa=U&amp;ved=0ahUKEwjblPTvuciAAxXgcWwGHc2YA_QQty4IUw&amp;usg=AOvVaw1z2L3_nIvKbnuVTAa7VSjG\">Learn more</a></div><div align=\"center\"><a class=\"rEM8G\" href=\"/url?q=https://accounts.google.com/ServiceLogin%3Fcontinue%3Dhttps://www.google.com/search%253Frlz%253D1C1CHBF_enIN974IN974%2526sxsrf%253DAB5stBgAmgMV9-L4dyHnRwBTxUQzqoGVSQ:1691333460226%2526q%253Delon%252Bmusk%2526tbm%253Disch%2526source%253Dlnms%2526sa%253DX%2526ved%253D2ahUKEwjYjd-QpMiAAxXCt1YBHZIyB5QQ0pQJegQICxAB%2526biw%253D697%2526bih%253D664%2526dpr%253D1.38%26hl%3Den&amp;sa=U&amp;ved=0ahUKEwjblPTvuciAAxXgcWwGHc2YA_QQxs8CCFQ&amp;usg=AOvVaw1LeOY4iXvaE0wSU7Fp46wG\">Sign in</a></div><div><table class=\"bookcf\"><tbody class=\"InWNIe\"><tr><td><a class=\"rEM8G\" href=\"https://www.google.com/preferences?hl=en&amp;sa=X&amp;ved=0ahUKEwjblPTvuciAAxXgcWwGHc2YA_QQv5YECFU\">Settings</a></td><td><a class=\"rEM8G\" href=\"https://www.google.com/intl/en_in/policies/privacy/\">Privacy</a></td><td><a class=\"rEM8G\" href=\"https://www.google.com/intl/en_in/policies/terms/\">Terms</a></td></tr></tbody></table></div></div><div> </div></body></html>"
      ]
     },
     "execution_count": 60,
     "metadata": {},
     "output_type": "execute_result"
    }
   ],
   "source": [
    "# Now we will fetch the data from the soup\n",
    "soup"
   ]
  },
  {
   "cell_type": "code",
   "execution_count": 61,
   "metadata": {},
   "outputs": [
    {
     "data": {
      "text/plain": [
       "[<img alt=\"\" class=\"yWs4tf\" src=\"https://encrypted-tbn0.gstatic.com/images?q=tbn:ANd9GcQ91bYeYuNi93Snai-G61-ct5IkXUEpoeW1RpiOFFuRWggNeJf-7uN0OZsy5XI&amp;s\"/>,\n",
       " <img alt=\"\" class=\"yWs4tf\" src=\"https://encrypted-tbn0.gstatic.com/images?q=tbn:ANd9GcQY_R5NSNoZkSlMo3hf86COGJ4fCv0s6Nx4k8uCGkWc6YGOn_m4-rIOQ3GhOhg&amp;s\"/>,\n",
       " <img alt=\"\" class=\"yWs4tf\" src=\"https://encrypted-tbn0.gstatic.com/images?q=tbn:ANd9GcRi6VsY0O4Rwi4daY2t-PuvdJGdeLzaZDeakW3gypf8wEN6zzIP7g1IsEv8008&amp;s\"/>,\n",
       " <img alt=\"\" class=\"yWs4tf\" src=\"https://encrypted-tbn0.gstatic.com/images?q=tbn:ANd9GcS6mPr1g683xgMlTnJfswzPyIjixDUJCLKR_GUOYd43dGj0LB8Uum64r_cOjl4&amp;s\"/>,\n",
       " <img alt=\"\" class=\"yWs4tf\" src=\"https://encrypted-tbn0.gstatic.com/images?q=tbn:ANd9GcTimempIlhToA_YSTDRQj-OTwOV6iu3TjjA2OeQB9LOOwyYkViejZmVr7_enUI&amp;s\"/>,\n",
       " <img alt=\"\" class=\"yWs4tf\" src=\"https://encrypted-tbn0.gstatic.com/images?q=tbn:ANd9GcRV6ht7iTHOiRpnNX524TEAMYc7vLxNrCKWq_N_xFvvHeMiWk0a6R_CwUperMg&amp;s\"/>,\n",
       " <img alt=\"\" class=\"yWs4tf\" src=\"https://encrypted-tbn0.gstatic.com/images?q=tbn:ANd9GcQrLpKqlX1sjNXjknU7YtoFuZ4cypWhAlX7Nvy41fLIdWxHOe3GBS__pSro4w&amp;s\"/>,\n",
       " <img alt=\"\" class=\"yWs4tf\" src=\"https://encrypted-tbn0.gstatic.com/images?q=tbn:ANd9GcR8Ki_Zcm3YAL6abFKq02Y22nM8DzYig13P5MiAUxiFlOuZ12YvdqPZjTDCVhg&amp;s\"/>,\n",
       " <img alt=\"\" class=\"yWs4tf\" src=\"https://encrypted-tbn0.gstatic.com/images?q=tbn:ANd9GcTvewo3-e7y-JsV16EL3q3EaMThVwCiuN7DD1_KTctFNodySZtMVcuOKk5uUQ&amp;s\"/>,\n",
       " <img alt=\"\" class=\"yWs4tf\" src=\"https://encrypted-tbn0.gstatic.com/images?q=tbn:ANd9GcTYn5DO2bDVOfAIr9cFF_RpTiC-pG16Qd9RbVMqb-kiSF8BjwzCQ7uQwd89Bw&amp;s\"/>,\n",
       " <img alt=\"\" class=\"yWs4tf\" src=\"https://encrypted-tbn0.gstatic.com/images?q=tbn:ANd9GcSAml6qsvttMXVIK2cnwNa7LqMi_VvKaRFZcmLSDDbyAiARR95xf8qQVYyxog&amp;s\"/>,\n",
       " <img alt=\"\" class=\"yWs4tf\" src=\"https://encrypted-tbn0.gstatic.com/images?q=tbn:ANd9GcQezjNqx6w8JJCwE0pgQbiAmOdSou46cBizMFC8ASz8V9nMmeJaq3FHfUtbdiE&amp;s\"/>,\n",
       " <img alt=\"\" class=\"yWs4tf\" src=\"https://encrypted-tbn0.gstatic.com/images?q=tbn:ANd9GcRQZseQ9bRxUwHLR5yk-VmJYFt7AuZKTqzI7n1im9SOTEk9qWAeEoQcfZ8l5g&amp;s\"/>,\n",
       " <img alt=\"\" class=\"yWs4tf\" src=\"https://encrypted-tbn0.gstatic.com/images?q=tbn:ANd9GcTajsryULnUhibLm7EAy_8EkoDdfDf-C3MgzuCkCs3my64MQcQxf4O63e74kEI&amp;s\"/>,\n",
       " <img alt=\"\" class=\"yWs4tf\" src=\"https://encrypted-tbn0.gstatic.com/images?q=tbn:ANd9GcT1Q-0CmrVfXGte1S5KxWDiRtt6djhyUzRP_tIhSGVZqmYd_tGTQH9EmMdXTQ&amp;s\"/>,\n",
       " <img alt=\"\" class=\"yWs4tf\" src=\"https://encrypted-tbn0.gstatic.com/images?q=tbn:ANd9GcQGiRopnPtY9H5lyLPSW-qspes1KjIGG-Z-edLKSchpa0XtjXgmbKrQAsIyDn8&amp;s\"/>,\n",
       " <img alt=\"\" class=\"yWs4tf\" src=\"https://encrypted-tbn0.gstatic.com/images?q=tbn:ANd9GcS6PtbO3oSFgC1yh6BPlre0Sr5h3aca6UrEmg7ibGUrD1g40Xm5cZBGYl7G3PU&amp;s\"/>,\n",
       " <img alt=\"\" class=\"yWs4tf\" src=\"https://encrypted-tbn0.gstatic.com/images?q=tbn:ANd9GcQ8PMvYwzma9_AefAQkWbf36ybkPkpEyUb06aEMyMqBATsvLQUPwTKBrjozCg&amp;s\"/>,\n",
       " <img alt=\"\" class=\"yWs4tf\" src=\"https://encrypted-tbn0.gstatic.com/images?q=tbn:ANd9GcRUNt-70ZeRtX94MTAGG_0jct8icPN38L_0vC8ub8XMMGdqXlbjk3aWVvEiX6c&amp;s\"/>,\n",
       " <img alt=\"\" class=\"yWs4tf\" src=\"https://encrypted-tbn0.gstatic.com/images?q=tbn:ANd9GcS2quwTIA5YuEiqdZT_92UDLDZfJLt7a51mI56dDC_UO2cs7FXTFtDua7YLGg&amp;s\"/>]"
      ]
     },
     "execution_count": 61,
     "metadata": {},
     "output_type": "execute_result"
    }
   ],
   "source": [
    "# Now I want to collect all the images in my directory\n",
    "image_tags=soup.find_all(\"img\") # image_tags is the list\n",
    "del image_tags[0]\n",
    "image_tags"
   ]
  },
  {
   "cell_type": "code",
   "execution_count": 62,
   "metadata": {},
   "outputs": [
    {
     "data": {
      "text/plain": [
       "20"
      ]
     },
     "execution_count": 62,
     "metadata": {},
     "output_type": "execute_result"
    }
   ],
   "source": [
    "## Number of images that we are fetching\n",
    "len(image_tags1)"
   ]
  },
  {
   "cell_type": "code",
   "execution_count": 63,
   "metadata": {},
   "outputs": [],
   "source": [
    "for i in image_tags :\n",
    "    # print(i['src'])\n",
    "    image_url=i['src']\n",
    "    image_data=requests.get(image_url).content\n",
    "    # Opening the folder which we have created\n",
    "    with open(os.path.join(save_dir,f\"{query}_{image_tags.index(i)}.jpg\"),\"wb\") as f :\n",
    "        f.write(image_data)\n",
    "\n"
   ]
  },
  {
   "cell_type": "code",
   "execution_count": null,
   "metadata": {},
   "outputs": [],
   "source": []
  }
 ],
 "metadata": {
  "kernelspec": {
   "display_name": "Python 3",
   "language": "python",
   "name": "python3"
  },
  "language_info": {
   "codemirror_mode": {
    "name": "ipython",
    "version": 3
   },
   "file_extension": ".py",
   "mimetype": "text/x-python",
   "name": "python",
   "nbconvert_exporter": "python",
   "pygments_lexer": "ipython3",
   "version": "3.11.4"
  },
  "orig_nbformat": 4
 },
 "nbformat": 4,
 "nbformat_minor": 2
}
